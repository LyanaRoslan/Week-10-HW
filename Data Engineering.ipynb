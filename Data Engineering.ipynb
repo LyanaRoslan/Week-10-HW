{
 "cells": [
  {
   "cell_type": "code",
   "execution_count": null,
   "metadata": {},
   "outputs": [],
   "source": [
    "# Importing Dependencies\n",
    "import pandas as pd\n",
    "import numpy as np\n",
    "import datetime as dt"
   ]
  },
  {
   "cell_type": "code",
   "execution_count": null,
   "metadata": {},
   "outputs": [],
   "source": [
    "\n",
    "# Path to data files\n",
    "measurements_csv = \"data_files/hawaii_measurements.csv\"\n",
    "stations_csv = \"data_files/hawaii_stations.csv\""
   ]
  },
  {
   "cell_type": "code",
   "execution_count": null,
   "metadata": {},
   "outputs": [],
   "source": [
    "# Reading files into Pandas Dataframe\n",
    "hawaii_meas_df = pd.read_csv(measurements_csv, header=\"infer\",dtype={\"station\":\"str\",\"date\":\"str\",\"prcp\":\"float\",\"tobs\":\"float\"} )\n",
    "hawaii_stat_df = pd.read_csv(stations_csv, header=\"infer\")"
   ]
  },
  {
   "cell_type": "code",
   "execution_count": null,
   "metadata": {},
   "outputs": [],
   "source": [
    "# Verifying Data and potential cleaning actions\n",
    "hawaii_meas_df.describe(include=\"all\")"
   ]
  },
  {
   "cell_type": "code",
   "execution_count": null,
   "metadata": {},
   "outputs": [],
   "source": [
    "# Verifying Data and potential cleaning actions\n",
    "hawaii_stat_df.describe(include=\"all\")"
   ]
  },
  {
   "cell_type": "code",
   "execution_count": null,
   "metadata": {},
   "outputs": [],
   "source": [
    "\n",
    "# Establishing index for Stations dataframe\n",
    "if \"station\" in hawaii_stat_df.columns:\n",
    "    hawaii_stat_df.set_index(\"station\", inplace=True)\n",
    "clean_hawaii_stat_df = hawaii_stat_df"
   ]
  },
  {
   "cell_type": "code",
   "execution_count": null,
   "metadata": {},
   "outputs": [],
   "source": [
    "\n",
    "# Creating a set of data that finds the average precipitation by station and month\n",
    "hawaii_meas_avg_df = pd.DataFrame(hawaii_meas_df.loc[:,[\"station\",\"date\",\"prcp\",\"tobs\"]])\n",
    "hawaii_meas_avg_df[\"prcp\"] = hawaii_meas_avg_df[\"prcp\"].astype(float)\n",
    "hawaii_meas_avg_df[\"tobs\"] = hawaii_meas_avg_df[\"tobs\"].astype(float)\n",
    "hawaii_meas_avg_df[\"date\"] = pd.to_datetime(hawaii_meas_avg_df[\"date\"],format=\"%Y-%m-%d\", errors=\"coerce\")\n",
    "hawaii_meas_avg_df[\"year\"] = hawaii_meas_avg_df[\"date\"].dt.year\n",
    "hawaii_meas_avg_df[\"month\"] = hawaii_meas_avg_df[\"date\"].dt.month\n",
    "hawaii_meas_avg_df[\"day\"] = hawaii_meas_avg_df[\"date\"].dt.day\n",
    "if \"station\" in hawaii_meas_avg_df.columns:\n",
    "    hawaii_meas_avg_df[\"station_month\"] = hawaii_meas_avg_df[\"station\"].astype(str, errors=\"ignore\")+\"_\"+hawaii_meas_avg_df[\"month\"].astype(str)\n",
    "else:\n",
    "    hawaii_meas_avg_df[\"station_month\"] = hawaii_meas_avg_df.index.astype(str, errors=\"ignore\")+\"_\"+hawaii_meas_avg_df[\"month\"].astype(str)\n",
    "avg_prcp_by_month = hawaii_meas_avg_df.loc[:,[\"station_month\",\"prcp\"]]"
   ]
  },
  {
   "cell_type": "code",
   "execution_count": null,
   "metadata": {},
   "outputs": [],
   "source": [
    "\n",
    "# Dropping all NaN values in \"prcp\" column and creating an averages group by \n",
    "# the \"station_month\" column\n",
    "avg_prcp_by_month.dropna(inplace=True)\n",
    "avg_prcp_by_month=avg_prcp_by_month.groupby([\"station_month\"])[\"prcp\"].mean()"
   ]
  },
  {
   "cell_type": "code",
   "execution_count": null,
   "metadata": {},
   "outputs": [],
   "source": [
    "# Replacing all NaN values with the average \"prcp\" data by station and month\n",
    "hawaii_meas_avg_df.prcp = round(hawaii_meas_avg_df.prcp.fillna(\n",
    "    hawaii_meas_avg_df.station_month.map(avg_prcp_by_month).astype(float)),2)"
   ]
  },
  {
   "cell_type": "code",
   "execution_count": null,
   "metadata": {},
   "outputs": [],
   "source": [
    "# Evaluating if the \"station\" column is the index, and establishing \"station\" \n",
    "# as the index if not.\n",
    "if \"station\" in hawaii_meas_avg_df.columns:\n",
    "    hawaii_meas_avg_df.set_index(\"station\", inplace=True)\n",
    "    print(\"Index assigned to 'station' column.\")\n",
    "else:\n",
    "    print(\"Index has already been assigned to'station' column.\")\n",
    "    \n",
    "hawaii_meas_df = hawaii_meas_avg_df"
   ]
  },
  {
   "cell_type": "code",
   "execution_count": null,
   "metadata": {},
   "outputs": [],
   "source": [
    "# Saving all of the new columns added to a separate dataframe\n",
    "attr_hawaii_meas_df = hawaii_meas_avg_df\n",
    "\n",
    "# Verifying index has not been set and establishing the index for new dataframe\n",
    "if \"station\" in attr_hawaii_meas_df.columns:\n",
    "    attr_hawaii_meas_df.set_index(\"station\", inplace=True)\n",
    "else:\n",
    "    \"\""
   ]
  },
  {
   "cell_type": "code",
   "execution_count": null,
   "metadata": {},
   "outputs": [],
   "source": [
    "# Final cleansing of Measurement data by verifying and establishing index of \"station\" column\n",
    "if \"station\" in hawaii_meas_df.columns:\n",
    "    clean_hawaii_meas_df = hawaii_meas_df.loc[:,[\"station\",\"date\",\"prcp\",\"tobs\"]]\n",
    "    hawaii_meas_df.set_index(\"station\", inplace=True)\n",
    "    print(\"Index assigned to 'station' column.\")\n",
    "else:\n",
    "    clean_hawaii_meas_df = hawaii_meas_df.loc[:,[\"date\",\"prcp\",\"tobs\"]]\n",
    "    print(\"Index has already been assigned to'station' column.\")"
   ]
  },
  {
   "cell_type": "code",
   "execution_count": null,
   "metadata": {},
   "outputs": [],
   "source": [
    "# Outputting cleaned versions of each dataframe\n",
    "clean_hawaii_meas_df.to_csv(measurements_csv.replace(\"data_files/\",\"data_files/CLEAN_\"))\n",
    "clean_hawaii_stat_df.to_csv(stations_csv.replace(\"data_files/\",\"data_files/CLEAN_\"))"
   ]
  },
  {
   "cell_type": "code",
   "execution_count": null,
   "metadata": {},
   "outputs": [],
   "source": [
    "# Saving output of additional fields for reference or analysis.\n",
    "attr_hawaii_meas_df.to_csv(\"data_files/measurements_with_additional_attributes.csv\")"
   ]
  }
 ],
 "metadata": {
  "kernelspec": {
   "display_name": "Python 3",
   "language": "python",
   "name": "python3"
  },
  "language_info": {
   "codemirror_mode": {
    "name": "ipython",
    "version": 3
   },
   "file_extension": ".py",
   "mimetype": "text/x-python",
   "name": "python",
   "nbconvert_exporter": "python",
   "pygments_lexer": "ipython3",
   "version": "3.6.6"
  }
 },
 "nbformat": 4,
 "nbformat_minor": 2
}
