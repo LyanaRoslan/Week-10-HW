{
 "cells": [
  {
   "cell_type": "code",
   "execution_count": 1,
   "metadata": {},
   "outputs": [
    {
     "ename": "ModuleNotFoundError",
     "evalue": "No module named 'matplotlib'",
     "output_type": "error",
     "traceback": [
      "\u001b[0;31m---------------------------------------------------------------------------\u001b[0m",
      "\u001b[0;31mModuleNotFoundError\u001b[0m                       Traceback (most recent call last)",
      "\u001b[0;32m<ipython-input-1-a90c356d72a8>\u001b[0m in \u001b[0;36m<module>\u001b[0;34m\u001b[0m\n\u001b[1;32m      2\u001b[0m \u001b[0;31m# Importing dependencies\u001b[0m\u001b[0;34m\u001b[0m\u001b[0;34m\u001b[0m\u001b[0m\n\u001b[1;32m      3\u001b[0m \u001b[0;31m#*******************************************\u001b[0m\u001b[0;34m\u001b[0m\u001b[0;34m\u001b[0m\u001b[0m\n\u001b[0;32m----> 4\u001b[0;31m \u001b[0;32mimport\u001b[0m \u001b[0mmatplotlib\u001b[0m\u001b[0;34m\u001b[0m\u001b[0m\n\u001b[0m\u001b[1;32m      5\u001b[0m \u001b[0;32mfrom\u001b[0m \u001b[0mmatplotlib\u001b[0m \u001b[0;32mimport\u001b[0m \u001b[0mstyle\u001b[0m\u001b[0;34m\u001b[0m\u001b[0m\n\u001b[1;32m      6\u001b[0m \u001b[0;32mimport\u001b[0m \u001b[0mmatplotlib\u001b[0m\u001b[0;34m.\u001b[0m\u001b[0mpyplot\u001b[0m \u001b[0;32mas\u001b[0m \u001b[0mplt\u001b[0m\u001b[0;34m\u001b[0m\u001b[0m\n",
      "\u001b[0;31mModuleNotFoundError\u001b[0m: No module named 'matplotlib'"
     ]
    }
   ],
   "source": [
    "\n",
    "# Importing dependencies\n",
    "#*******************************************\n",
    "import matplotlib\n",
    "from matplotlib import style\n",
    "import matplotlib.pyplot as plt\n",
    "import pandas as pd\n",
    "import numpy as np\n",
    "import datetime as dt\n",
    "import sqlalchemy\n",
    "from sqlalchemy.ext.automap import automap_base\n",
    "from sqlalchemy.orm import Session\n",
    "from sqlalchemy import create_engine, inspect, func"
   ]
  },
  {
   "cell_type": "code",
   "execution_count": 2,
   "metadata": {},
   "outputs": [
    {
     "ename": "NameError",
     "evalue": "name 'create_engine' is not defined",
     "output_type": "error",
     "traceback": [
      "\u001b[0;31m---------------------------------------------------------------------------\u001b[0m",
      "\u001b[0;31mNameError\u001b[0m                                 Traceback (most recent call last)",
      "\u001b[0;32m<ipython-input-2-555845a17a49>\u001b[0m in \u001b[0;36m<module>\u001b[0;34m\u001b[0m\n\u001b[1;32m      1\u001b[0m \u001b[0;34m\u001b[0m\u001b[0m\n\u001b[1;32m      2\u001b[0m \u001b[0;31m# SQL Connection and attributes\u001b[0m\u001b[0;34m\u001b[0m\u001b[0;34m\u001b[0m\u001b[0m\n\u001b[0;32m----> 3\u001b[0;31m \u001b[0mengine\u001b[0m \u001b[0;34m=\u001b[0m \u001b[0mcreate_engine\u001b[0m\u001b[0;34m(\u001b[0m\u001b[0;34m\"sqlite:///hawaii.sqlite\"\u001b[0m\u001b[0;34m,\u001b[0m \u001b[0mecho\u001b[0m\u001b[0;34m=\u001b[0m\u001b[0;32mFalse\u001b[0m\u001b[0;34m)\u001b[0m\u001b[0;34m\u001b[0m\u001b[0m\n\u001b[0m\u001b[1;32m      4\u001b[0m \u001b[0mBase\u001b[0m \u001b[0;34m=\u001b[0m \u001b[0mautomap_base\u001b[0m\u001b[0;34m(\u001b[0m\u001b[0;34m)\u001b[0m\u001b[0;34m\u001b[0m\u001b[0m\n\u001b[1;32m      5\u001b[0m \u001b[0mBase\u001b[0m\u001b[0;34m.\u001b[0m\u001b[0mprepare\u001b[0m\u001b[0;34m(\u001b[0m\u001b[0mengine\u001b[0m\u001b[0;34m,\u001b[0m \u001b[0mreflect\u001b[0m\u001b[0;34m=\u001b[0m\u001b[0;32mTrue\u001b[0m\u001b[0;34m)\u001b[0m\u001b[0;34m\u001b[0m\u001b[0m\n",
      "\u001b[0;31mNameError\u001b[0m: name 'create_engine' is not defined"
     ]
    }
   ],
   "source": [
    "\n",
    "# SQL Connection and attributes\n",
    "engine = create_engine(\"sqlite:///hawaii.sqlite\", echo=False)\n",
    "Base = automap_base()\n",
    "Base.prepare(engine, reflect=True)"
   ]
  },
  {
   "cell_type": "code",
   "execution_count": null,
   "metadata": {},
   "outputs": [],
   "source": [
    "# Verify tables and structure from SQLite database\n",
    "inspector = inspect(engine)\n",
    "tbl_names = inspector.get_table_names()\n",
    "i =1 \n",
    "for table in tbl_names:\n",
    "    print(\"Table \"+str(i)+\": \"+str(table))\n",
    "    i = i+1\n",
    "    columns = inspector.get_columns(table)\n",
    "    for col in columns:\n",
    "        print(\"     Col: \"+str(col[\"name\"])+\" (\"+str(col[\"type\"])+\")\")"
   ]
  },
  {
   "cell_type": "code",
   "execution_count": null,
   "metadata": {},
   "outputs": [],
   "source": [
    "# Obtaining class information\n",
    "print(str(inspector.get_pk_constraint(\"stations\")))\n",
    "print(str(inspector.get_pk_constraint(\"measurements\")))"
   ]
  },
  {
   "cell_type": "code",
   "execution_count": null,
   "metadata": {},
   "outputs": [],
   "source": [
    "# Assigning table classes\n",
    "Measurements = Base.classes.measurements\n",
    "Stations = Base.classes.stations"
   ]
  },
  {
   "cell_type": "code",
   "execution_count": null,
   "metadata": {},
   "outputs": [],
   "source": [
    "# Creating Precipitation Analysis pandas dataframe to house the \"date\" and \"prcp\" values from the \"measurements\" table\n",
    "prcp_analysis_df = pd.read_sql(\"SELECT date, prcp FROM measurements\", con=engine, columns=[[\"date\"],[\"prcp\"]])"
   ]
  },
  {
   "cell_type": "code",
   "execution_count": null,
   "metadata": {},
   "outputs": [],
   "source": [
    "# Converting the \"date\" field into the date data-type\n",
    "prcp_analysis_df[\"date\"] = pd.to_datetime(prcp_analysis_df[\"date\"],format=\"%Y-%m-%d\", errors=\"coerce\")"
   ]
  },
  {
   "cell_type": "code",
   "execution_count": null,
   "metadata": {},
   "outputs": [],
   "source": [
    "# Determining the max date and subtracting 365 days to create the minimum date (or the past 12 months)\n",
    "pa_max_date = prcp_analysis_df[\"date\"].max().date()\n",
    "pa_today = dt.date.today()\n",
    "pa_min_date = (pa_max_date - dt.timedelta(days=365))\n",
    "print(\"Date Range: \"+str(pa_min_date)+\" to \"+str(pa_max_date))"
   ]
  },
  {
   "cell_type": "code",
   "execution_count": null,
   "metadata": {},
   "outputs": [],
   "source": [
    "# Dropping all records from Precipitation Analysis dataframe that are not within the last 12 months from the max date\n",
    "prcp_analysis_df = prcp_analysis_df.loc[prcp_analysis_df[\"date\"]>=pa_min_date]"
   ]
  },
  {
   "cell_type": "code",
   "execution_count": null,
   "metadata": {},
   "outputs": [],
   "source": [
    "prcp_analysis_df.set_index(\"date\", inplace=True)\n",
    "prcp_analysis_df.describe(include=\"all\")"
   ]
  },
  {
   "cell_type": "code",
   "execution_count": null,
   "metadata": {},
   "outputs": [],
   "source": [
    "ax = prcp_analysis_df.plot.line(y=\"prcp\",figsize=(20,8), fontsize=17, color=\"#33B3FF\")\n",
    "ax.patch.set_facecolor(\"#000000\")\n",
    "ax.set_xlabel(xlabel=\"\\n\\nPast 12 Months of Data\", fontsize=20, color=\"#000000\", fontweight=\"bold\")\n",
    "ax.set_frame_on(b=True)\n",
    "ax.set_facecolor(\"#202020\")\n",
    "ax.grid(True, alpha=.3)\n",
    "ax.legend(frameon=True, fancybox=True, facecolor=\"#FFFFFF\", edgecolor=\"#000000\", shadow=True, loc=\"best\", fontsize=15, mode=\"exapnd\")\n",
    "ax.label_outer()\n",
    "ax.set_title(\"Precipitation Analysis\\n\", fontsize=28, color=\"#000000\", fontweight=\"bold\")\n",
    "plt.tight_layout()\n",
    "plt.savefig(\"prcp_analysis.png\")"
   ]
  },
  {
   "cell_type": "code",
   "execution_count": null,
   "metadata": {},
   "outputs": [],
   "source": [
    "# Counting activity by station data to determine most active station\n",
    "active_df = pd.read_sql(\"SELECT s.station, count(m.station) as station_count FROM measurements m, stations s WHERE m.station=s.station GROUP BY m.station\", con=engine, columns=[[\"station\"],[\"station_count\"]])"
   ]
  },
  {
   "cell_type": "code",
   "execution_count": null,
   "metadata": {},
   "outputs": [],
   "source": [
    "# Sorting the values by highest value count first\n",
    "active_df.sort_values(by=\"station_count\", ascending=False, inplace=True)\n",
    "# Settings the \"station\" as the index\n",
    "indexed_activity = active_df.set_index(\"station\")\n",
    "# Dataframe for most active staitons sorted by station count\n",
    "indexed_activity"
   ]
  },
  {
   "cell_type": "code",
   "execution_count": null,
   "metadata": {},
   "outputs": [],
   "source": [
    "max_activity = indexed_activity.station_count.max()\n",
    "\n",
    "# Displaying the station name observation count of max_activity query\n",
    "most_active = list(np.where(indexed_activity[\"station_count\"]==max_activity)[0])\n",
    "station_max = indexed_activity.iloc[most_active]\n",
    "station_max =str(station_max.index[0])\n",
    "print(\"Station with the most observations recorded: \"+station_max+\n",
    "      \", with a count of {:,} observations\".format(max_activity))"
   ]
  },
  {
   "cell_type": "code",
   "execution_count": null,
   "metadata": {},
   "outputs": [],
   "source": [
    "# Creating a query to database session to find all the \"tobs\" values from the \"station_max\" results for the past 12 months\n",
    "sh_results = session.query(Measurements.date,Measurements.tobs).\\\n",
    "            filter(Measurements.date >= pa_min_date).\\\n",
    "            filter(Measurements.station==station_max).all()"
   ]
  },
  {
   "cell_type": "code",
   "execution_count": null,
   "metadata": {},
   "outputs": [],
   "source": [
    "\n",
    "# Converting the results of the query into a pandas dataframe\n",
    "sh_max_df = pd.DataFrame(np.array(sh_results), columns=([\"date\",\"tobs\"]))\n",
    "sh_max_df"
   ]
  },
  {
   "cell_type": "code",
   "execution_count": null,
   "metadata": {},
   "outputs": [],
   "source": [
    "# Converting the data types so that the \"tobs\" column will return a value\n",
    "sh_max_df.tobs = sh_max_df.tobs.astype(float)"
   ]
  },
  {
   "cell_type": "code",
   "execution_count": null,
   "metadata": {},
   "outputs": [],
   "source": [
    "# Verifying value types\n",
    "sh_max_df.dtypes\n",
    "sh_max_df.describe(include=\"all\")\n"
   ]
  },
  {
   "cell_type": "code",
   "execution_count": null,
   "metadata": {},
   "outputs": [],
   "source": [
    "\n",
    "ax = sh_max_df.plot.hist(by=None, bins=12, figsize=(15, 13), color=\"#CF0055\", fontsize=17, edgecolor=\"#FFC1DA\")\n",
    "ax.set_xlabel(xlabel=\"\\n\\nPast 12 Months of Data\", fontsize=20, color=\"#000000\", fontweight=\"bold\")\n",
    "ax.set_frame_on(b=True)\n",
    "ax.set_facecolor(\"#222222\")\n",
    "ax.grid(True, alpha=.3)\n",
    "ax.set_ylabel(ylabel=\"Frequency\\n\\n\", fontsize=20,fontweight=\"bold\")\n",
    "ax.legend(frameon=True, fancybox=True, facecolor=\"#FFFFFF\", edgecolor=\"#FFC1DA\", shadow=True, loc=\"best\", fontsize=20, mode=\"exapnd\")\n",
    "ax.label_outer()\n",
    "ax.set_title(str(station_max+\" Historgram\\n\"), fontsize=32, color=\"#000000\",fontweight=\"bold\")\n",
    "plt.tight_layout()\n",
    "plt.savefig(\"tobs_histogram.png\")"
   ]
  }
 ],
 "metadata": {
  "kernelspec": {
   "display_name": "Python 3",
   "language": "python",
   "name": "python3"
  },
  "language_info": {
   "codemirror_mode": {
    "name": "ipython",
    "version": 3
   },
   "file_extension": ".py",
   "mimetype": "text/x-python",
   "name": "python",
   "nbconvert_exporter": "python",
   "pygments_lexer": "ipython3",
   "version": "3.6.6"
  }
 },
 "nbformat": 4,
 "nbformat_minor": 2
}
